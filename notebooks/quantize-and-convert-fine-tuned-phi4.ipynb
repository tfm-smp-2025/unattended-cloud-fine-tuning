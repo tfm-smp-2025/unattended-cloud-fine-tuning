{
  "cells": [
    {
      "cell_type": "markdown",
      "id": "a3406b7d",
      "metadata": {
        "id": "a3406b7d"
      },
      "source": [
        "# Model preparation notebook"
      ]
    },
    {
      "cell_type": "code",
      "source": [
        "# Start time\n",
        "!date"
      ],
      "metadata": {
        "id": "1sQhHMM3hH56",
        "outputId": "24ba2ac9-3b02-414d-aa14-43649e01cfd4",
        "colab": {
          "base_uri": "https://localhost:8080/"
        }
      },
      "id": "1sQhHMM3hH56",
      "execution_count": 1,
      "outputs": [
        {
          "output_type": "stream",
          "name": "stdout",
          "text": [
            "Sat May  3 08:55:38 AM UTC 2025\n"
          ]
        }
      ]
    },
    {
      "cell_type": "markdown",
      "source": [
        "## Setup"
      ],
      "metadata": {
        "id": "_xDYWzO-Yayb"
      },
      "id": "_xDYWzO-Yayb"
    },
    {
      "cell_type": "code",
      "source": [
        "from getpass import getpass\n",
        "\n",
        "def get_secret(prompt, secret_name, secret_input=True):\n",
        "  try:\n",
        "    from google.colab import userdata\n",
        "    result = userdata.get(secret_name)\n",
        "    assert result is not None\n",
        "  except:\n",
        "    if secret_input:\n",
        "      result = getpass(prompt)\n",
        "    else:\n",
        "      result = input(prompt)\n",
        "  return result\n"
      ],
      "metadata": {
        "id": "oXM0JQXeWrlv"
      },
      "id": "oXM0JQXeWrlv",
      "execution_count": 2,
      "outputs": []
    },
    {
      "cell_type": "code",
      "source": [
        "%%capture\n",
        "import os\n",
        "if \"COLAB_\" not in \"\".join(os.environ.keys()):\n",
        "    !pip install unsloth\n",
        "else:\n",
        "    # Do this only in Colab notebooks! Otherwise use pip install unsloth\n",
        "    !pip install --no-deps bitsandbytes accelerate xformers==0.0.29.post3 peft trl==0.15.2 triton cut_cross_entropy unsloth_zoo\n",
        "    !pip install sentencepiece protobuf datasets huggingface_hub hf_transfer\n",
        "    !pip install --no-deps unsloth\n",
        "    !pip install -U transformers\n",
        "\n",
        "from unsloth import FastLanguageModel  # Load unsloth ASAP"
      ],
      "metadata": {
        "id": "YAkKPixLWuZA"
      },
      "id": "YAkKPixLWuZA",
      "execution_count": 3,
      "outputs": []
    },
    {
      "cell_type": "markdown",
      "source": [
        "## Download pre-trained checkpoint"
      ],
      "metadata": {
        "id": "3oyvCKsOXCbq"
      },
      "id": "3oyvCKsOXCbq"
    },
    {
      "cell_type": "code",
      "source": [
        "import os\n",
        "\n",
        "if (\n",
        "    (not os.path.exists(os.path.expanduser(\"~/.ssh/id_rsa\")))\n",
        "    or (not os.path.exists(os.path.expanduser(\"~/.ssh/known_hosts\")))\n",
        "):\n",
        "  SSHKEY = get_secret('Result pusher SSH key: ', 'TFM_SSH_PUSHER_KEY')\n",
        "\n",
        "  !mkdir ~/.ssh\n",
        "\n",
        "  # Read locally with `cat ~/.ssh/result-pusher|tr '\\n' '$';echo`\n",
        "  with open(os.path.expanduser(\"~/.ssh/id_rsa\"), 'wt') as f:\n",
        "    f.write(SSHKEY.replace('$', '\\n'))\n",
        "\n",
        "  !chmod 0600 ~/.ssh/id_rsa\n",
        "  !ssh-keygen -y -f ~/.ssh/id_rsa > ~/.ssh/id_rsa.pub\n",
        "  !chmod 0600 ~/.ssh/id_rsa.pub\n",
        "\n",
        "  # This won't copy the client key (not needed), but it will initialize the server's on the client\n",
        "  !ssh-copy-id -i ~/.ssh/id_rsa -o StrictHostKeyChecking=accept-new result-pusher@kb.tfm.codigoparallevar.com\n",
        "\n",
        "  del SSHKEY"
      ],
      "metadata": {
        "id": "owXoATDXXJD5",
        "outputId": "60ee296f-48c1-444c-c562-42246f90751c",
        "colab": {
          "base_uri": "https://localhost:8080/"
        }
      },
      "id": "owXoATDXXJD5",
      "execution_count": 4,
      "outputs": [
        {
          "output_type": "stream",
          "name": "stdout",
          "text": [
            "/usr/bin/ssh-copy-id: INFO: Source of key(s) to be installed: \"/root/.ssh/id_rsa.pub\"\n",
            "/usr/bin/ssh-copy-id: INFO: attempting to log in with the new key(s), to filter out any that are already installed\n",
            "\n",
            "/usr/bin/ssh-copy-id: WARNING: All keys were skipped because they already exist on the remote system.\n",
            "\t\t(if you think this is a mistake, you may want to use -f option)\n",
            "\n"
          ]
        }
      ]
    },
    {
      "cell_type": "code",
      "source": [
        "!rsync -HPrz --mkpath \\\n",
        "  result-pusher@kb.tfm.codigoparallevar.com:fine-tuning/fine-tuned/peft-kbs-summary-training-1746028477/checkpoint-300/ \\\n",
        "    fine-tune"
      ],
      "metadata": {
        "id": "vEbcZ6xaXEmk",
        "outputId": "c1024431-d2da-43dc-968e-49cde8a9d00d",
        "colab": {
          "base_uri": "https://localhost:8080/"
        }
      },
      "id": "vEbcZ6xaXEmk",
      "execution_count": 6,
      "outputs": [
        {
          "output_type": "stream",
          "name": "stdout",
          "text": [
            "receiving incremental file list\n",
            "created 1 directory for fine-tune\n",
            "README.md\n",
            "          5,104 100%    4.87MB/s    0:00:00 (xfr#1, to-chk=12/14)\n",
            "adapter_config.json\n",
            "            860 100%  839.84kB/s    0:00:00 (xfr#2, to-chk=11/14)\n",
            "adapter_model.safetensors\n",
            "    262,219,392 100%   12.51MB/s    0:00:19 (xfr#3, to-chk=10/14)\n",
            "merges.txt\n",
            "        916,646 100%    1.31MB/s    0:00:00 (xfr#4, to-chk=9/14)\n",
            "optimizer.pt\n",
            "    133,785,108 100%   12.27MB/s    0:00:10 (xfr#5, to-chk=8/14)\n",
            "rng_state.pth\n",
            "         14,244 100%   16.66kB/s    0:00:00 (xfr#6, to-chk=7/14)\n",
            "scheduler.pt\n",
            "          1,064 100%    1.24kB/s    0:00:00 (xfr#7, to-chk=6/14)\n",
            "special_tokens_map.json\n",
            "            456 100%    0.53kB/s    0:00:00 (xfr#8, to-chk=5/14)\n",
            "tokenizer.json\n",
            "      7,153,264 100%    6.88MB/s    0:00:00 (xfr#9, to-chk=4/14)\n",
            "tokenizer_config.json\n",
            "         17,987 100%   17.71kB/s    0:00:00 (xfr#10, to-chk=3/14)\n",
            "trainer_state.json\n",
            "          3,599 100%    3.54kB/s    0:00:00 (xfr#11, to-chk=2/14)\n",
            "training_args.bin\n",
            "          5,304 100%    5.22kB/s    0:00:00 (xfr#12, to-chk=1/14)\n",
            "vocab.json\n",
            "      1,612,637 100%    1.53MB/s    0:00:01 (xfr#13, to-chk=0/14)\n"
          ]
        }
      ]
    },
    {
      "cell_type": "markdown",
      "source": [
        "## Load pre-trained model"
      ],
      "metadata": {
        "id": "T6lQKiO2XAyX"
      },
      "id": "T6lQKiO2XAyX"
    },
    {
      "cell_type": "code",
      "source": [
        "from peft import PeftModel\n",
        "import torch\n",
        "\n",
        "device_map = {\"\": 0}\n",
        "\n",
        "\n",
        "model, tokenizer = FastLanguageModel.from_pretrained(\n",
        "    model_name = \"unsloth/Phi-4\",\n",
        "    max_seq_length = 16384, # max_seq_length,\n",
        "    load_in_4bit = True, # load_in_4bit,\n",
        "    # token = \"hf_...\", # use one if using gated models like meta-llama/Llama-2-7b-hf\n",
        ")\n",
        "\n",
        "ft_model = PeftModel.from_pretrained(model, \"fine-tune\",torch_dtype=torch.float16,is_trainable=False)"
      ],
      "metadata": {
        "id": "w8D_JMuYXE-Q",
        "outputId": "d653cc3a-e5af-4bcd-c6dd-b038ec52c5c2",
        "colab": {
          "base_uri": "https://localhost:8080/",
          "height": 185,
          "referenced_widgets": [
            "8511c17968ee41628f44399014e872f4",
            "568c2d21d23a4e46aa13a4a75c8b439c",
            "27d44d73dd0942faa4f8506aab798ec4",
            "9258d5b7f3e04e7ea15ac75cee3faa80",
            "52c6d5a444b44c3e88d21b35cbaaeab6",
            "2e844d79821745b98e44337bec1c1dc1",
            "876a00190cba4c599725d4b7bfabac1e",
            "2a71f50e2e2f44c3b5f9c527572791c3",
            "6e3a4e3bc396464d8316d5ff0d9a8c99",
            "9ad6d71652234edb9aff3194e9a3188d",
            "11b93a14f8004407829927583ca31619",
            "be60dd9e1a1644fea7d5388d2fac6c89",
            "1c40dfce61664637a3c10ba046c0752f",
            "cb5b5be680ba47eaa0ae842bc9886800",
            "1784895b8286410bbecf08a9b8c02196",
            "be45ca665d9d4d1781853940e19d061d",
            "37c657e43e394812ab5dd92fe62e94b4",
            "5a27444f436c4c5fbacbd1f648ced052",
            "30ed5e01f5f84b459f0e95452b5e84e5",
            "479af3f765394ad186f078e84f557230",
            "28e4db0d76d549ce9f23d2c7e3f60571",
            "8d0e37bffe3a4e718a20df17682dd575"
          ]
        }
      },
      "id": "w8D_JMuYXE-Q",
      "execution_count": null,
      "outputs": [
        {
          "output_type": "stream",
          "name": "stdout",
          "text": [
            "==((====))==  Unsloth 2025.4.7: Fast Llama patching. Transformers: 4.51.3.\n",
            "   \\\\   /|    Tesla T4. Num GPUs = 1. Max memory: 14.741 GB. Platform: Linux.\n",
            "O^O/ \\_/ \\    Torch: 2.6.0+cu124. CUDA: 7.5. CUDA Toolkit: 12.4. Triton: 3.2.0\n",
            "\\        /    Bfloat16 = FALSE. FA [Xformers = 0.0.29.post3. FA2 = False]\n",
            " \"-____-\"     Free license: http://github.com/unslothai/unsloth\n",
            "Unsloth: Fast downloading is enabled - ignore downloading bars which are red colored!\n"
          ]
        },
        {
          "output_type": "display_data",
          "data": {
            "text/plain": [
              "model.safetensors.index.json:   0%|          | 0.00/160k [00:00<?, ?B/s]"
            ],
            "application/vnd.jupyter.widget-view+json": {
              "version_major": 2,
              "version_minor": 0,
              "model_id": "8511c17968ee41628f44399014e872f4"
            }
          },
          "metadata": {}
        },
        {
          "output_type": "display_data",
          "data": {
            "text/plain": [
              "model-00001-of-00003.safetensors:   0%|          | 0.00/4.97G [00:00<?, ?B/s]"
            ],
            "application/vnd.jupyter.widget-view+json": {
              "version_major": 2,
              "version_minor": 0,
              "model_id": "be60dd9e1a1644fea7d5388d2fac6c89"
            }
          },
          "metadata": {}
        }
      ]
    },
    {
      "cell_type": "markdown",
      "source": [
        "## Save to GGUF"
      ],
      "metadata": {
        "id": "XTLWpEVmXr_l"
      },
      "id": "XTLWpEVmXr_l"
    },
    {
      "cell_type": "code",
      "source": [
        "ft_model.save_pretrained_gguf(\"model\", tokenizer, quantization_method = [ \"f16\", \"q4_k_m\"])"
      ],
      "metadata": {
        "id": "yJ4C_IfgXraP"
      },
      "id": "yJ4C_IfgXraP",
      "execution_count": null,
      "outputs": []
    }
  ],
  "metadata": {
    "kernelspec": {
      "display_name": "Python 3",
      "name": "python3"
    },
    "language_info": {
      "codemirror_mode": {
        "name": "ipython",
        "version": 3
      },
      "file_extension": ".py",
      "mimetype": "text/x-python",
      "name": "python",
      "nbconvert_exporter": "python",
      "pygments_lexer": "ipython3",
      "version": "3.12.9"
    },
    "colab": {
      "provenance": [],
      "gpuType": "T4"
    },
    "accelerator": "GPU",
    "widgets": {
      "application/vnd.jupyter.widget-state+json": {
        "8511c17968ee41628f44399014e872f4": {
          "model_module": "@jupyter-widgets/controls",
          "model_name": "HBoxModel",
          "model_module_version": "1.5.0",
          "state": {
            "_dom_classes": [],
            "_model_module": "@jupyter-widgets/controls",
            "_model_module_version": "1.5.0",
            "_model_name": "HBoxModel",
            "_view_count": null,
            "_view_module": "@jupyter-widgets/controls",
            "_view_module_version": "1.5.0",
            "_view_name": "HBoxView",
            "box_style": "",
            "children": [
              "IPY_MODEL_568c2d21d23a4e46aa13a4a75c8b439c",
              "IPY_MODEL_27d44d73dd0942faa4f8506aab798ec4",
              "IPY_MODEL_9258d5b7f3e04e7ea15ac75cee3faa80"
            ],
            "layout": "IPY_MODEL_52c6d5a444b44c3e88d21b35cbaaeab6"
          }
        },
        "568c2d21d23a4e46aa13a4a75c8b439c": {
          "model_module": "@jupyter-widgets/controls",
          "model_name": "HTMLModel",
          "model_module_version": "1.5.0",
          "state": {
            "_dom_classes": [],
            "_model_module": "@jupyter-widgets/controls",
            "_model_module_version": "1.5.0",
            "_model_name": "HTMLModel",
            "_view_count": null,
            "_view_module": "@jupyter-widgets/controls",
            "_view_module_version": "1.5.0",
            "_view_name": "HTMLView",
            "description": "",
            "description_tooltip": null,
            "layout": "IPY_MODEL_2e844d79821745b98e44337bec1c1dc1",
            "placeholder": "​",
            "style": "IPY_MODEL_876a00190cba4c599725d4b7bfabac1e",
            "value": "model.safetensors.index.json: 100%"
          }
        },
        "27d44d73dd0942faa4f8506aab798ec4": {
          "model_module": "@jupyter-widgets/controls",
          "model_name": "FloatProgressModel",
          "model_module_version": "1.5.0",
          "state": {
            "_dom_classes": [],
            "_model_module": "@jupyter-widgets/controls",
            "_model_module_version": "1.5.0",
            "_model_name": "FloatProgressModel",
            "_view_count": null,
            "_view_module": "@jupyter-widgets/controls",
            "_view_module_version": "1.5.0",
            "_view_name": "ProgressView",
            "bar_style": "success",
            "description": "",
            "description_tooltip": null,
            "layout": "IPY_MODEL_2a71f50e2e2f44c3b5f9c527572791c3",
            "max": 160171,
            "min": 0,
            "orientation": "horizontal",
            "style": "IPY_MODEL_6e3a4e3bc396464d8316d5ff0d9a8c99",
            "value": 160171
          }
        },
        "9258d5b7f3e04e7ea15ac75cee3faa80": {
          "model_module": "@jupyter-widgets/controls",
          "model_name": "HTMLModel",
          "model_module_version": "1.5.0",
          "state": {
            "_dom_classes": [],
            "_model_module": "@jupyter-widgets/controls",
            "_model_module_version": "1.5.0",
            "_model_name": "HTMLModel",
            "_view_count": null,
            "_view_module": "@jupyter-widgets/controls",
            "_view_module_version": "1.5.0",
            "_view_name": "HTMLView",
            "description": "",
            "description_tooltip": null,
            "layout": "IPY_MODEL_9ad6d71652234edb9aff3194e9a3188d",
            "placeholder": "​",
            "style": "IPY_MODEL_11b93a14f8004407829927583ca31619",
            "value": " 160k/160k [00:00&lt;00:00, 4.84MB/s]"
          }
        },
        "52c6d5a444b44c3e88d21b35cbaaeab6": {
          "model_module": "@jupyter-widgets/base",
          "model_name": "LayoutModel",
          "model_module_version": "1.2.0",
          "state": {
            "_model_module": "@jupyter-widgets/base",
            "_model_module_version": "1.2.0",
            "_model_name": "LayoutModel",
            "_view_count": null,
            "_view_module": "@jupyter-widgets/base",
            "_view_module_version": "1.2.0",
            "_view_name": "LayoutView",
            "align_content": null,
            "align_items": null,
            "align_self": null,
            "border": null,
            "bottom": null,
            "display": null,
            "flex": null,
            "flex_flow": null,
            "grid_area": null,
            "grid_auto_columns": null,
            "grid_auto_flow": null,
            "grid_auto_rows": null,
            "grid_column": null,
            "grid_gap": null,
            "grid_row": null,
            "grid_template_areas": null,
            "grid_template_columns": null,
            "grid_template_rows": null,
            "height": null,
            "justify_content": null,
            "justify_items": null,
            "left": null,
            "margin": null,
            "max_height": null,
            "max_width": null,
            "min_height": null,
            "min_width": null,
            "object_fit": null,
            "object_position": null,
            "order": null,
            "overflow": null,
            "overflow_x": null,
            "overflow_y": null,
            "padding": null,
            "right": null,
            "top": null,
            "visibility": null,
            "width": null
          }
        },
        "2e844d79821745b98e44337bec1c1dc1": {
          "model_module": "@jupyter-widgets/base",
          "model_name": "LayoutModel",
          "model_module_version": "1.2.0",
          "state": {
            "_model_module": "@jupyter-widgets/base",
            "_model_module_version": "1.2.0",
            "_model_name": "LayoutModel",
            "_view_count": null,
            "_view_module": "@jupyter-widgets/base",
            "_view_module_version": "1.2.0",
            "_view_name": "LayoutView",
            "align_content": null,
            "align_items": null,
            "align_self": null,
            "border": null,
            "bottom": null,
            "display": null,
            "flex": null,
            "flex_flow": null,
            "grid_area": null,
            "grid_auto_columns": null,
            "grid_auto_flow": null,
            "grid_auto_rows": null,
            "grid_column": null,
            "grid_gap": null,
            "grid_row": null,
            "grid_template_areas": null,
            "grid_template_columns": null,
            "grid_template_rows": null,
            "height": null,
            "justify_content": null,
            "justify_items": null,
            "left": null,
            "margin": null,
            "max_height": null,
            "max_width": null,
            "min_height": null,
            "min_width": null,
            "object_fit": null,
            "object_position": null,
            "order": null,
            "overflow": null,
            "overflow_x": null,
            "overflow_y": null,
            "padding": null,
            "right": null,
            "top": null,
            "visibility": null,
            "width": null
          }
        },
        "876a00190cba4c599725d4b7bfabac1e": {
          "model_module": "@jupyter-widgets/controls",
          "model_name": "DescriptionStyleModel",
          "model_module_version": "1.5.0",
          "state": {
            "_model_module": "@jupyter-widgets/controls",
            "_model_module_version": "1.5.0",
            "_model_name": "DescriptionStyleModel",
            "_view_count": null,
            "_view_module": "@jupyter-widgets/base",
            "_view_module_version": "1.2.0",
            "_view_name": "StyleView",
            "description_width": ""
          }
        },
        "2a71f50e2e2f44c3b5f9c527572791c3": {
          "model_module": "@jupyter-widgets/base",
          "model_name": "LayoutModel",
          "model_module_version": "1.2.0",
          "state": {
            "_model_module": "@jupyter-widgets/base",
            "_model_module_version": "1.2.0",
            "_model_name": "LayoutModel",
            "_view_count": null,
            "_view_module": "@jupyter-widgets/base",
            "_view_module_version": "1.2.0",
            "_view_name": "LayoutView",
            "align_content": null,
            "align_items": null,
            "align_self": null,
            "border": null,
            "bottom": null,
            "display": null,
            "flex": null,
            "flex_flow": null,
            "grid_area": null,
            "grid_auto_columns": null,
            "grid_auto_flow": null,
            "grid_auto_rows": null,
            "grid_column": null,
            "grid_gap": null,
            "grid_row": null,
            "grid_template_areas": null,
            "grid_template_columns": null,
            "grid_template_rows": null,
            "height": null,
            "justify_content": null,
            "justify_items": null,
            "left": null,
            "margin": null,
            "max_height": null,
            "max_width": null,
            "min_height": null,
            "min_width": null,
            "object_fit": null,
            "object_position": null,
            "order": null,
            "overflow": null,
            "overflow_x": null,
            "overflow_y": null,
            "padding": null,
            "right": null,
            "top": null,
            "visibility": null,
            "width": null
          }
        },
        "6e3a4e3bc396464d8316d5ff0d9a8c99": {
          "model_module": "@jupyter-widgets/controls",
          "model_name": "ProgressStyleModel",
          "model_module_version": "1.5.0",
          "state": {
            "_model_module": "@jupyter-widgets/controls",
            "_model_module_version": "1.5.0",
            "_model_name": "ProgressStyleModel",
            "_view_count": null,
            "_view_module": "@jupyter-widgets/base",
            "_view_module_version": "1.2.0",
            "_view_name": "StyleView",
            "bar_color": null,
            "description_width": ""
          }
        },
        "9ad6d71652234edb9aff3194e9a3188d": {
          "model_module": "@jupyter-widgets/base",
          "model_name": "LayoutModel",
          "model_module_version": "1.2.0",
          "state": {
            "_model_module": "@jupyter-widgets/base",
            "_model_module_version": "1.2.0",
            "_model_name": "LayoutModel",
            "_view_count": null,
            "_view_module": "@jupyter-widgets/base",
            "_view_module_version": "1.2.0",
            "_view_name": "LayoutView",
            "align_content": null,
            "align_items": null,
            "align_self": null,
            "border": null,
            "bottom": null,
            "display": null,
            "flex": null,
            "flex_flow": null,
            "grid_area": null,
            "grid_auto_columns": null,
            "grid_auto_flow": null,
            "grid_auto_rows": null,
            "grid_column": null,
            "grid_gap": null,
            "grid_row": null,
            "grid_template_areas": null,
            "grid_template_columns": null,
            "grid_template_rows": null,
            "height": null,
            "justify_content": null,
            "justify_items": null,
            "left": null,
            "margin": null,
            "max_height": null,
            "max_width": null,
            "min_height": null,
            "min_width": null,
            "object_fit": null,
            "object_position": null,
            "order": null,
            "overflow": null,
            "overflow_x": null,
            "overflow_y": null,
            "padding": null,
            "right": null,
            "top": null,
            "visibility": null,
            "width": null
          }
        },
        "11b93a14f8004407829927583ca31619": {
          "model_module": "@jupyter-widgets/controls",
          "model_name": "DescriptionStyleModel",
          "model_module_version": "1.5.0",
          "state": {
            "_model_module": "@jupyter-widgets/controls",
            "_model_module_version": "1.5.0",
            "_model_name": "DescriptionStyleModel",
            "_view_count": null,
            "_view_module": "@jupyter-widgets/base",
            "_view_module_version": "1.2.0",
            "_view_name": "StyleView",
            "description_width": ""
          }
        },
        "be60dd9e1a1644fea7d5388d2fac6c89": {
          "model_module": "@jupyter-widgets/controls",
          "model_name": "HBoxModel",
          "model_module_version": "1.5.0",
          "state": {
            "_dom_classes": [],
            "_model_module": "@jupyter-widgets/controls",
            "_model_module_version": "1.5.0",
            "_model_name": "HBoxModel",
            "_view_count": null,
            "_view_module": "@jupyter-widgets/controls",
            "_view_module_version": "1.5.0",
            "_view_name": "HBoxView",
            "box_style": "",
            "children": [
              "IPY_MODEL_1c40dfce61664637a3c10ba046c0752f",
              "IPY_MODEL_cb5b5be680ba47eaa0ae842bc9886800",
              "IPY_MODEL_1784895b8286410bbecf08a9b8c02196"
            ],
            "layout": "IPY_MODEL_be45ca665d9d4d1781853940e19d061d"
          }
        },
        "1c40dfce61664637a3c10ba046c0752f": {
          "model_module": "@jupyter-widgets/controls",
          "model_name": "HTMLModel",
          "model_module_version": "1.5.0",
          "state": {
            "_dom_classes": [],
            "_model_module": "@jupyter-widgets/controls",
            "_model_module_version": "1.5.0",
            "_model_name": "HTMLModel",
            "_view_count": null,
            "_view_module": "@jupyter-widgets/controls",
            "_view_module_version": "1.5.0",
            "_view_name": "HTMLView",
            "description": "",
            "description_tooltip": null,
            "layout": "IPY_MODEL_37c657e43e394812ab5dd92fe62e94b4",
            "placeholder": "​",
            "style": "IPY_MODEL_5a27444f436c4c5fbacbd1f648ced052",
            "value": "model-00001-of-00003.safetensors:  77%"
          }
        },
        "cb5b5be680ba47eaa0ae842bc9886800": {
          "model_module": "@jupyter-widgets/controls",
          "model_name": "FloatProgressModel",
          "model_module_version": "1.5.0",
          "state": {
            "_dom_classes": [],
            "_model_module": "@jupyter-widgets/controls",
            "_model_module_version": "1.5.0",
            "_model_name": "FloatProgressModel",
            "_view_count": null,
            "_view_module": "@jupyter-widgets/controls",
            "_view_module_version": "1.5.0",
            "_view_name": "ProgressView",
            "bar_style": "",
            "description": "",
            "description_tooltip": null,
            "layout": "IPY_MODEL_30ed5e01f5f84b459f0e95452b5e84e5",
            "max": 4971805503,
            "min": 0,
            "orientation": "horizontal",
            "style": "IPY_MODEL_479af3f765394ad186f078e84f557230",
            "value": 3818371539
          }
        },
        "1784895b8286410bbecf08a9b8c02196": {
          "model_module": "@jupyter-widgets/controls",
          "model_name": "HTMLModel",
          "model_module_version": "1.5.0",
          "state": {
            "_dom_classes": [],
            "_model_module": "@jupyter-widgets/controls",
            "_model_module_version": "1.5.0",
            "_model_name": "HTMLModel",
            "_view_count": null,
            "_view_module": "@jupyter-widgets/controls",
            "_view_module_version": "1.5.0",
            "_view_name": "HTMLView",
            "description": "",
            "description_tooltip": null,
            "layout": "IPY_MODEL_28e4db0d76d549ce9f23d2c7e3f60571",
            "placeholder": "​",
            "style": "IPY_MODEL_8d0e37bffe3a4e718a20df17682dd575",
            "value": " 3.82G/4.97G [00:47&lt;00:13, 84.5MB/s]"
          }
        },
        "be45ca665d9d4d1781853940e19d061d": {
          "model_module": "@jupyter-widgets/base",
          "model_name": "LayoutModel",
          "model_module_version": "1.2.0",
          "state": {
            "_model_module": "@jupyter-widgets/base",
            "_model_module_version": "1.2.0",
            "_model_name": "LayoutModel",
            "_view_count": null,
            "_view_module": "@jupyter-widgets/base",
            "_view_module_version": "1.2.0",
            "_view_name": "LayoutView",
            "align_content": null,
            "align_items": null,
            "align_self": null,
            "border": null,
            "bottom": null,
            "display": null,
            "flex": null,
            "flex_flow": null,
            "grid_area": null,
            "grid_auto_columns": null,
            "grid_auto_flow": null,
            "grid_auto_rows": null,
            "grid_column": null,
            "grid_gap": null,
            "grid_row": null,
            "grid_template_areas": null,
            "grid_template_columns": null,
            "grid_template_rows": null,
            "height": null,
            "justify_content": null,
            "justify_items": null,
            "left": null,
            "margin": null,
            "max_height": null,
            "max_width": null,
            "min_height": null,
            "min_width": null,
            "object_fit": null,
            "object_position": null,
            "order": null,
            "overflow": null,
            "overflow_x": null,
            "overflow_y": null,
            "padding": null,
            "right": null,
            "top": null,
            "visibility": null,
            "width": null
          }
        },
        "37c657e43e394812ab5dd92fe62e94b4": {
          "model_module": "@jupyter-widgets/base",
          "model_name": "LayoutModel",
          "model_module_version": "1.2.0",
          "state": {
            "_model_module": "@jupyter-widgets/base",
            "_model_module_version": "1.2.0",
            "_model_name": "LayoutModel",
            "_view_count": null,
            "_view_module": "@jupyter-widgets/base",
            "_view_module_version": "1.2.0",
            "_view_name": "LayoutView",
            "align_content": null,
            "align_items": null,
            "align_self": null,
            "border": null,
            "bottom": null,
            "display": null,
            "flex": null,
            "flex_flow": null,
            "grid_area": null,
            "grid_auto_columns": null,
            "grid_auto_flow": null,
            "grid_auto_rows": null,
            "grid_column": null,
            "grid_gap": null,
            "grid_row": null,
            "grid_template_areas": null,
            "grid_template_columns": null,
            "grid_template_rows": null,
            "height": null,
            "justify_content": null,
            "justify_items": null,
            "left": null,
            "margin": null,
            "max_height": null,
            "max_width": null,
            "min_height": null,
            "min_width": null,
            "object_fit": null,
            "object_position": null,
            "order": null,
            "overflow": null,
            "overflow_x": null,
            "overflow_y": null,
            "padding": null,
            "right": null,
            "top": null,
            "visibility": null,
            "width": null
          }
        },
        "5a27444f436c4c5fbacbd1f648ced052": {
          "model_module": "@jupyter-widgets/controls",
          "model_name": "DescriptionStyleModel",
          "model_module_version": "1.5.0",
          "state": {
            "_model_module": "@jupyter-widgets/controls",
            "_model_module_version": "1.5.0",
            "_model_name": "DescriptionStyleModel",
            "_view_count": null,
            "_view_module": "@jupyter-widgets/base",
            "_view_module_version": "1.2.0",
            "_view_name": "StyleView",
            "description_width": ""
          }
        },
        "30ed5e01f5f84b459f0e95452b5e84e5": {
          "model_module": "@jupyter-widgets/base",
          "model_name": "LayoutModel",
          "model_module_version": "1.2.0",
          "state": {
            "_model_module": "@jupyter-widgets/base",
            "_model_module_version": "1.2.0",
            "_model_name": "LayoutModel",
            "_view_count": null,
            "_view_module": "@jupyter-widgets/base",
            "_view_module_version": "1.2.0",
            "_view_name": "LayoutView",
            "align_content": null,
            "align_items": null,
            "align_self": null,
            "border": null,
            "bottom": null,
            "display": null,
            "flex": null,
            "flex_flow": null,
            "grid_area": null,
            "grid_auto_columns": null,
            "grid_auto_flow": null,
            "grid_auto_rows": null,
            "grid_column": null,
            "grid_gap": null,
            "grid_row": null,
            "grid_template_areas": null,
            "grid_template_columns": null,
            "grid_template_rows": null,
            "height": null,
            "justify_content": null,
            "justify_items": null,
            "left": null,
            "margin": null,
            "max_height": null,
            "max_width": null,
            "min_height": null,
            "min_width": null,
            "object_fit": null,
            "object_position": null,
            "order": null,
            "overflow": null,
            "overflow_x": null,
            "overflow_y": null,
            "padding": null,
            "right": null,
            "top": null,
            "visibility": null,
            "width": null
          }
        },
        "479af3f765394ad186f078e84f557230": {
          "model_module": "@jupyter-widgets/controls",
          "model_name": "ProgressStyleModel",
          "model_module_version": "1.5.0",
          "state": {
            "_model_module": "@jupyter-widgets/controls",
            "_model_module_version": "1.5.0",
            "_model_name": "ProgressStyleModel",
            "_view_count": null,
            "_view_module": "@jupyter-widgets/base",
            "_view_module_version": "1.2.0",
            "_view_name": "StyleView",
            "bar_color": null,
            "description_width": ""
          }
        },
        "28e4db0d76d549ce9f23d2c7e3f60571": {
          "model_module": "@jupyter-widgets/base",
          "model_name": "LayoutModel",
          "model_module_version": "1.2.0",
          "state": {
            "_model_module": "@jupyter-widgets/base",
            "_model_module_version": "1.2.0",
            "_model_name": "LayoutModel",
            "_view_count": null,
            "_view_module": "@jupyter-widgets/base",
            "_view_module_version": "1.2.0",
            "_view_name": "LayoutView",
            "align_content": null,
            "align_items": null,
            "align_self": null,
            "border": null,
            "bottom": null,
            "display": null,
            "flex": null,
            "flex_flow": null,
            "grid_area": null,
            "grid_auto_columns": null,
            "grid_auto_flow": null,
            "grid_auto_rows": null,
            "grid_column": null,
            "grid_gap": null,
            "grid_row": null,
            "grid_template_areas": null,
            "grid_template_columns": null,
            "grid_template_rows": null,
            "height": null,
            "justify_content": null,
            "justify_items": null,
            "left": null,
            "margin": null,
            "max_height": null,
            "max_width": null,
            "min_height": null,
            "min_width": null,
            "object_fit": null,
            "object_position": null,
            "order": null,
            "overflow": null,
            "overflow_x": null,
            "overflow_y": null,
            "padding": null,
            "right": null,
            "top": null,
            "visibility": null,
            "width": null
          }
        },
        "8d0e37bffe3a4e718a20df17682dd575": {
          "model_module": "@jupyter-widgets/controls",
          "model_name": "DescriptionStyleModel",
          "model_module_version": "1.5.0",
          "state": {
            "_model_module": "@jupyter-widgets/controls",
            "_model_module_version": "1.5.0",
            "_model_name": "DescriptionStyleModel",
            "_view_count": null,
            "_view_module": "@jupyter-widgets/base",
            "_view_module_version": "1.2.0",
            "_view_name": "StyleView",
            "description_width": ""
          }
        }
      }
    }
  },
  "nbformat": 4,
  "nbformat_minor": 5
}