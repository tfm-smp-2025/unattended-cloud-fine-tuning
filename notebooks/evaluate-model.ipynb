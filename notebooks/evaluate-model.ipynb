{
 "cells": [
  {
   "cell_type": "markdown",
   "id": "a3406b7d",
   "metadata": {},
   "source": [
    "# Model evaluation notebook"
   ]
  },
  {
   "cell_type": "markdown",
   "id": "4718fd5f-1744-461e-806f-6e03437cc6cd",
   "metadata": {},
   "source": [
    "## Install Ollama"
   ]
  },
  {
   "cell_type": "markdown",
   "id": "d409326e-b5a7-4391-8ebe-6d75fff1a9d2",
   "metadata": {},
   "source": [
    "### Google Collab"
   ]
  },
  {
   "cell_type": "code",
   "execution_count": null,
   "id": "d4ad6d3c",
   "metadata": {
    "vscode": {
     "languageId": "plaintext"
    }
   },
   "outputs": [],
   "source": [
    "# Google Collab dependencies from: https://github.com/5aharsh/collama\n",
    "!sudo apt update\n",
    "!sudo apt install -y pciutils\n",
    "!curl -fsSL https://ollama.com/install.sh | sh"
   ]
  },
  {
   "cell_type": "markdown",
   "id": "415944ee-648d-4603-a6af-20bf9db1eb02",
   "metadata": {},
   "source": [
    "### Docker image\n",
    "An ephemeral environment can be prepared with.\n",
    "\n",
    "```shell\n",
    "docker run -v \"${PWD}\":/home/jovyan/work -it --rm -p 10000:8888 quay.io/jupyter/scipy-notebook:2025-03-14\n",
    "```"
   ]
  },
  {
   "cell_type": "code",
   "execution_count": null,
   "id": "6392576f-d7d2-4636-b24e-4b336d51a76e",
   "metadata": {},
   "outputs": [],
   "source": [
    "# If on Jupyter Docker image, run\n",
    "docker exec -it --user=0 <docker_container_name> sh -c 'apt update && apt install -y pciutils'"
   ]
  },
  {
   "cell_type": "code",
   "execution_count": null,
   "id": "baddd2a7-1011-414f-95a8-95bdadc51142",
   "metadata": {},
   "outputs": [],
   "source": [
    "# Install Ollama\n",
    "docker exec -it --user=0 <docker_container_name> sh -c 'curl -fsSL https://ollama.com/install.sh | sh'"
   ]
  },
  {
   "cell_type": "markdown",
   "id": "4bb21b98-1ec9-4900-b937-45fb3488cd12",
   "metadata": {},
   "source": [
    "## Prepare model"
   ]
  },
  {
   "cell_type": "code",
   "execution_count": null,
   "id": "51dd1fa5",
   "metadata": {
    "vscode": {
     "languageId": "plaintext"
    }
   },
   "outputs": [],
   "source": [
    "MODEL = 'gemma2:2b'"
   ]
  },
  {
   "cell_type": "code",
   "execution_count": null,
   "id": "99c1552e-8308-4cfb-b1a8-89d9458ba191",
   "metadata": {},
   "outputs": [],
   "source": [
    "!ollama pull \"$MODEL\""
   ]
  },
  {
   "cell_type": "markdown",
   "id": "22002ef2-6649-45fd-8352-52104f456f98",
   "metadata": {},
   "source": [
    "## Prepare code"
   ]
  },
  {
   "cell_type": "code",
   "execution_count": null,
   "id": "544f2f5c-c999-43fb-b8a1-21294ebb08fb",
   "metadata": {},
   "outputs": [],
   "source": []
  },
  {
   "cell_type": "markdown",
   "id": "978e116d-b24b-4752-9ded-145d88e46209",
   "metadata": {},
   "source": [
    "## Run evaluation"
   ]
  },
  {
   "cell_type": "markdown",
   "id": "cdf303a7-cb4f-4bbe-96c8-e0f881eb1812",
   "metadata": {},
   "source": [
    "## Cleanup"
   ]
  },
  {
   "cell_type": "markdown",
   "id": "fceb9694-7dd1-4086-b87f-e449cb612682",
   "metadata": {},
   "source": [
    "### Stop kernel"
   ]
  },
  {
   "cell_type": "code",
   "execution_count": null,
   "id": "999aeb16-d251-4c00-93e6-977bc73ae1c1",
   "metadata": {},
   "outputs": [],
   "source": [
    "get_ipython().kernel.do_shutdown(True)"
   ]
  }
 ],
 "metadata": {
  "kernelspec": {
   "display_name": "Python 3 (ipykernel)",
   "language": "python",
   "name": "python3"
  },
  "language_info": {
   "codemirror_mode": {
    "name": "ipython",
    "version": 3
   },
   "file_extension": ".py",
   "mimetype": "text/x-python",
   "name": "python",
   "nbconvert_exporter": "python",
   "pygments_lexer": "ipython3",
   "version": "3.12.9"
  }
 },
 "nbformat": 4,
 "nbformat_minor": 5
}
